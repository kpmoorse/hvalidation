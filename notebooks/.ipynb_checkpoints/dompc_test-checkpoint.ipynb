{
 "cells": [
  {
   "cell_type": "code",
   "execution_count": 1,
   "id": "ee0e8319-5fe7-4f97-afef-5d173286a95b",
   "metadata": {
    "tags": []
   },
   "outputs": [
    {
     "name": "stderr",
     "output_type": "stream",
     "text": [
      "/home/kellan/.local/lib/python3.8/site-packages/do_mpc/sysid/__init__.py:15: UserWarning: The ONNX feature is not available. Please install the full version of do-mpc to access this feature.\n",
      "  warnings.warn('The ONNX feature is not available. Please install the full version of do-mpc to access this feature.')\n",
      "/home/kellan/.local/lib/python3.8/site-packages/do_mpc/opcua/__init__.py:14: UserWarning: The opcua feature is not available. Please install the full version of do-mpc to access this feature.\n",
      "  warnings.warn('The opcua feature is not available. Please install the full version of do-mpc to access this feature.')\n"
     ]
    }
   ],
   "source": [
    "import numpy as np\n",
    "import do_mpc\n",
    "from casadi import *\n",
    "import matplotlib.pyplot as plt\n",
    "import matplotlib as mpl"
   ]
  },
  {
   "cell_type": "code",
   "execution_count": 2,
   "id": "5ad38b06-a240-45db-bec2-3a254957f4d9",
   "metadata": {
    "tags": []
   },
   "outputs": [],
   "source": [
    "model_type = 'discrete'\n",
    "model = do_mpc.model.Model(model_type)\n",
    "\n",
    "x = model.set_variable(var_type='_x', var_name='x', shape=(1,1))\n",
    "y = model.set_variable(var_type='_x', var_name='y', shape=(1,1))\n",
    "v = model.set_variable(var_type='_x', var_name='v', shape=(1,1))\n",
    "th = model.set_variable(var_type='_x', var_name='th', shape=(1,1))\n",
    "\n",
    "dphi = model.set_variable(var_type='_x', var_name='dphi', shape=(4,1))\n",
    "\n",
    "a = model.set_variable(var_type='_u', var_name='a', shape=(1,1))\n",
    "w = model.set_variable(var_type='_u', var_name='w', shape=(1,1))\n",
    "\n",
    "k1 = model.set_variable('parameter', 'k1')\n",
    "k2 = model.set_variable('parameter', 'k2')"
   ]
  },
  {
   "cell_type": "code",
   "execution_count": 3,
   "id": "f410ce6a-f621-48bb-8c33-99eae6c7f106",
   "metadata": {
    "tags": []
   },
   "outputs": [],
   "source": [
    "model.set_rhs('x', dphi[0])\n",
    "model.set_rhs('y', dphi[1])\n",
    "model.set_rhs('v', dphi[2])\n",
    "model.set_rhs('th', dphi[3])"
   ]
  },
  {
   "cell_type": "code",
   "execution_count": 4,
   "id": "f7357cf5-b885-4c35-8d8c-52ab906e460f",
   "metadata": {
    "tags": []
   },
   "outputs": [],
   "source": [
    "dphi_next = vertcat(\n",
    "    v*np.cos(th),\n",
    "    v*np.sin(th),\n",
    "    a,\n",
    "    w\n",
    ")\n",
    "\n",
    "model.set_rhs('dphi', dphi_next)"
   ]
  },
  {
   "cell_type": "code",
   "execution_count": 5,
   "id": "e5fa590d-9f0f-42e9-b107-cdc27d9b3e88",
   "metadata": {
    "tags": []
   },
   "outputs": [],
   "source": [
    "model.setup()"
   ]
  },
  {
   "cell_type": "code",
   "execution_count": null,
   "id": "236a5f3b-d0d3-4872-9352-2e8cfebc7a76",
   "metadata": {
    "tags": []
   },
   "outputs": [],
   "source": []
  },
  {
   "cell_type": "code",
   "execution_count": 6,
   "id": "2e1bf0b3-aabf-4bdc-830f-36a2c47104ab",
   "metadata": {
    "tags": []
   },
   "outputs": [],
   "source": [
    "mpc = do_mpc.controller.MPC(model)"
   ]
  },
  {
   "cell_type": "code",
   "execution_count": 7,
   "id": "f7dc53ae-a330-469a-8514-e7ec750aca62",
   "metadata": {
    "tags": []
   },
   "outputs": [],
   "source": [
    "setup_mpc = {\n",
    "    'n_horizon': 20,\n",
    "    't_step': 0.1,\n",
    "    'n_robust': 1,\n",
    "    'store_full_solution': True,\n",
    "}\n",
    "mpc.set_param(**setup_mpc)"
   ]
  },
  {
   "cell_type": "code",
   "execution_count": 8,
   "id": "e73bcacc-7783-4b29-a586-d908327ccf67",
   "metadata": {
    "tags": []
   },
   "outputs": [],
   "source": [
    "mterm = x**2 + y**2\n",
    "lterm = x**2 + y**2\n",
    "\n",
    "mpc.set_objective(mterm=mterm, lterm=lterm)"
   ]
  },
  {
   "cell_type": "code",
   "execution_count": 9,
   "id": "3e049ea8-5018-4fad-8cfe-58aaf70b04ee",
   "metadata": {
    "tags": []
   },
   "outputs": [],
   "source": [
    "mpc.set_rterm(\n",
    "    a=1e-2,\n",
    "    w=1e-2\n",
    ")"
   ]
  },
  {
   "cell_type": "code",
   "execution_count": 10,
   "id": "9d10712a-7116-46a9-8af9-20167f4bbcb9",
   "metadata": {
    "tags": []
   },
   "outputs": [],
   "source": [
    "# Lower bounds on states:\n",
    "mpc.bounds['lower','_x', 'x'] = -3\n",
    "mpc.bounds['lower','_x', 'y'] = -3\n",
    "mpc.bounds['lower','_x', 'v'] = -3\n",
    "mpc.bounds['lower','_x', 'th'] = -np.pi\n",
    "# Upper bounds on states\n",
    "mpc.bounds['upper','_x', 'x'] = 3\n",
    "mpc.bounds['upper','_x', 'y'] = 3\n",
    "mpc.bounds['upper','_x', 'v'] = 3\n",
    "mpc.bounds['upper','_x', 'th'] = np.pi\n",
    "\n",
    "# Lower bounds on inputs:\n",
    "mpc.bounds['lower','_u', 'a'] = -3\n",
    "mpc.bounds['lower','_u', 'w'] = -3\n",
    "# Lower bounds on inputs:\n",
    "mpc.bounds['upper','_u', 'a'] = 3\n",
    "mpc.bounds['upper','_u', 'w'] = 3"
   ]
  },
  {
   "cell_type": "code",
   "execution_count": 11,
   "id": "11f41830-d913-422a-b0a7-080761547b5a",
   "metadata": {
    "tags": []
   },
   "outputs": [],
   "source": [
    "mpc.set_uncertainty_values(\n",
    "    k1 = [0.9,1,1.1],\n",
    "    k2 = [0.9,1,1.1]\n",
    ")"
   ]
  },
  {
   "cell_type": "code",
   "execution_count": 12,
   "id": "a2b09584-217e-4432-a3b1-d2fcf85eb193",
   "metadata": {
    "tags": []
   },
   "outputs": [],
   "source": [
    "mpc.setup()"
   ]
  },
  {
   "cell_type": "code",
   "execution_count": 13,
   "id": "bf0909ba-5533-40f9-98ec-3d975f1bb60d",
   "metadata": {
    "tags": []
   },
   "outputs": [],
   "source": [
    "simulator = do_mpc.simulator.Simulator(model)\n",
    "simulator.set_param(t_step = 0.1)"
   ]
  },
  {
   "cell_type": "code",
   "execution_count": 14,
   "id": "93c20f8f-7c8a-404b-991c-c9535d7faa48",
   "metadata": {
    "tags": []
   },
   "outputs": [],
   "source": [
    "p_template = simulator.get_p_template()\n",
    "def p_fun(t_now):\n",
    "    p_template['k1'] = 1\n",
    "    p_template['k2'] = 1\n",
    "    return p_template\n",
    "simulator.set_p_fun(p_fun)\n",
    "simulator.setup()"
   ]
  },
  {
   "cell_type": "code",
   "execution_count": 15,
   "id": "f6c43f4b-cd55-446b-9592-fbd33616c366",
   "metadata": {
    "tags": []
   },
   "outputs": [
    {
     "data": {
      "text/plain": [
       "['x', 'y', 'v', 'th', 'dphi']"
      ]
     },
     "execution_count": 15,
     "metadata": {},
     "output_type": "execute_result"
    }
   ],
   "source": [
    "model.x.keys()"
   ]
  },
  {
   "cell_type": "code",
   "execution_count": 25,
   "id": "d7def58f-d9dc-4cc3-af97-52e4e2cd9a62",
   "metadata": {
    "tags": []
   },
   "outputs": [],
   "source": [
    "x0 = np.array([1, 1, 0, 0, 0, 0, 0,0]).reshape(-1,1)\n",
    "simulator.x0 = x0\n",
    "model.x0 = x0\n",
    "mpc.set_initial_guess()"
   ]
  },
  {
   "cell_type": "code",
   "execution_count": 26,
   "id": "c1f67fa9-aafe-44af-aa5e-0f49d94e881e",
   "metadata": {
    "tags": []
   },
   "outputs": [
    {
     "data": {
      "text/plain": [
       "DM(1)"
      ]
     },
     "execution_count": 26,
     "metadata": {},
     "output_type": "execute_result"
    }
   ],
   "source": [
    "mpc.x0['x']"
   ]
  },
  {
   "cell_type": "code",
   "execution_count": 17,
   "id": "9ea500e4-de6a-4587-9eb1-2081e760f766",
   "metadata": {
    "tags": []
   },
   "outputs": [],
   "source": [
    "mpc_graphics = do_mpc.graphics.Graphics(mpc.data)\n",
    "sim_graphics = do_mpc.graphics.Graphics(simulator.data)\n"
   ]
  },
  {
   "cell_type": "code",
   "execution_count": 18,
   "id": "9669bb84-fcdf-4547-a723-ddd945d037be",
   "metadata": {
    "tags": []
   },
   "outputs": [],
   "source": [
    "%%capture\n",
    "# We just want to create the plot and not show it right now. This \"inline magic\" supresses the output.\n",
    "fig, ax = plt.subplots(2, sharex=True, figsize=(16,9))\n",
    "fig.align_ylabels()\n",
    "\n",
    "%%capture\n",
    "for g in [sim_graphics, mpc_graphics]:\n",
    "    # Plot the angle positions (phi_1, phi_2, phi_2) on the first axis:\n",
    "    g.add_line(var_type='_x', var_name='x', axis=ax[0])\n",
    "    g.add_line(var_type='_x', var_name='y', axis=ax[0])\n",
    "\n",
    "    # Plot the set motor positions (phi_m_1_set, phi_m_2_set) on the second axis:\n",
    "    g.add_line(var_type='_u', var_name='a', axis=ax[1])\n",
    "    g.add_line(var_type='_u', var_name='w', axis=ax[1])\n",
    "\n",
    "\n",
    "ax[0].set_ylabel('angle position [rad]')\n",
    "ax[1].set_ylabel('motor angle [rad]')\n",
    "ax[1].set_xlabel('time [s]')\n"
   ]
  },
  {
   "cell_type": "code",
   "execution_count": 19,
   "id": "3145e335-12d6-4c88-b8bf-9d06856b75fe",
   "metadata": {
    "tags": []
   },
   "outputs": [
    {
     "data": {
      "image/png": "[encoded data removed]",
      "text/plain": [
       "<Figure size 1600x900 with 2 Axes>"
      ]
     },
     "execution_count": 19,
     "metadata": {},
     "output_type": "execute_result"
    }
   ],
   "source": [
    "# u0 = np.zeros((2,1))\n",
    "# for i in range(200):\n",
    "#     simulator.make_step(u0)\n",
    "    \n",
    "# sim_graphics.plot_results()\n",
    "# # Reset the limits on all axes in graphic to show the data.\n",
    "# sim_graphics.reset_axes()\n",
    "# # Show the figure:\n",
    "# fig"
   ]
  },
  {
   "cell_type": "code",
   "execution_count": 22,
   "id": "ee383dcd-8d04-43b7-a50a-96161e10c690",
   "metadata": {
    "tags": []
   },
   "outputs": [
    {
     "name": "stdout",
     "output_type": "stream",
     "text": [
      "This is Ipopt version 3.14.11, running with linear solver MUMPS 5.4.1.\n",
      "\n",
      "Number of nonzeros in equality constraint Jacobian...:     3248\n",
      "Number of nonzeros in inequality constraint Jacobian.:        0\n",
      "Number of nonzeros in Lagrangian Hessian.............:     1392\n",
      "\n",
      "Total number of variables............................:     1872\n",
      "                     variables with only lower bounds:        0\n",
      "                variables with lower and upper bounds:     1044\n",
      "                     variables with only upper bounds:        0\n",
      "Total number of equality constraints.................:     1448\n",
      "Total number of inequality constraints...............:        0\n",
      "        inequality constraints with only lower bounds:        0\n",
      "   inequality constraints with lower and upper bounds:        0\n",
      "        inequality constraints with only upper bounds:        0\n",
      "\n",
      "iter    objective    inf_pr   inf_du lg(mu)  ||d||  lg(rg) alpha_du alpha_pr  ls\n",
      "   0  2.0000000e+00 0.00e+00 0.00e+00  -1.0 0.00e+00    -  0.00e+00 0.00e+00   0\n",
      "   1  2.0000000e+00 0.00e+00 0.00e+00  -1.0 0.00e+00  -4.0 1.00e+00 1.00e+00   0\n",
      "   2  2.0000000e+00 0.00e+00 0.00e+00  -2.5 0.00e+00  -4.5 1.00e+00 1.00e+00T  0\n",
      "   3  2.0000000e+00 0.00e+00 0.00e+00  -3.8 0.00e+00  -5.0 1.00e+00 1.00e+00T  0\n",
      "   4  2.0000000e+00 0.00e+00 0.00e+00  -5.7 0.00e+00  -5.4 1.00e+00 1.00e+00T  0\n",
      "   5  2.0000000e+00 0.00e+00 0.00e+00  -8.6 0.00e+00  -5.9 1.00e+00 1.00e+00T  0\n",
      "\n",
      "Number of Iterations....: 5\n",
      "\n",
      "                                   (scaled)                 (unscaled)\n",
      "Objective...............:   2.0000000000000004e+00    2.0000000000000004e+00\n",
      "Dual infeasibility......:   0.0000000000000000e+00    0.0000000000000000e+00\n",
      "Constraint violation....:   0.0000000000000000e+00    0.0000000000000000e+00\n",
      "Variable bound violation:   0.0000000000000000e+00    0.0000000000000000e+00\n",
      "Complementarity.........:   2.5059035596800275e-09    2.5059035596800275e-09\n",
      "Overall NLP error.......:   2.5059035596800275e-09    2.5059035596800275e-09\n",
      "\n",
      "\n",
      "Number of objective function evaluations             = 6\n",
      "Number of objective gradient evaluations             = 6\n",
      "Number of equality constraint evaluations            = 6\n",
      "Number of inequality constraint evaluations          = 0\n",
      "Number of equality constraint Jacobian evaluations   = 6\n",
      "Number of inequality constraint Jacobian evaluations = 0\n",
      "Number of Lagrangian Hessian evaluations             = 5\n",
      "Total seconds in IPOPT                               = 0.063\n",
      "\n",
      "EXIT: Optimal Solution Found.\n",
      "           S  :   t_proc      (avg)   t_wall      (avg)    n_eval\n",
      "       nlp_f  | 181.00us ( 15.08us) 145.80us ( 12.15us)        12\n",
      "       nlp_g  | 193.00us ( 16.08us) 182.90us ( 15.24us)        12\n",
      "    nlp_grad  |  42.00us ( 42.00us)  41.91us ( 41.91us)         1\n",
      "  nlp_grad_f  | 222.00us ( 15.86us) 216.35us ( 15.45us)        14\n",
      "  nlp_hess_l  | 171.00us ( 17.10us) 168.91us ( 16.89us)        10\n",
      "   nlp_jac_g  | 314.00us ( 22.43us) 315.02us ( 22.50us)        14\n",
      "       total  |  63.45ms ( 63.45ms)  63.48ms ( 63.48ms)         1\n"
     ]
    }
   ],
   "source": [
    "u0 = mpc.make_step(x0)\n",
    "x = simulator.make_step(u0)"
   ]
  },
  {
   "cell_type": "code",
   "execution_count": 21,
   "id": "60561438-6af6-424d-a53d-ab8de5adf4be",
   "metadata": {
    "tags": []
   },
   "outputs": [
    {
     "data": {
      "text/plain": [
       "array([[0.],\n",
       "       [0.]])"
      ]
     },
     "execution_count": 21,
     "metadata": {},
     "output_type": "execute_result"
    }
   ],
   "source": [
    "u0"
   ]
  },
  {
   "cell_type": "code",
   "execution_count": 23,
   "id": "ba817640-d6dc-4d5b-b927-5de2afd6e60d",
   "metadata": {
    "tags": []
   },
   "outputs": [
    {
     "data": {
      "text/plain": [
       "array([[0.],\n",
       "       [0.],\n",
       "       [0.],\n",
       "       [0.],\n",
       "       [0.],\n",
       "       [0.],\n",
       "       [0.],\n",
       "       [0.]])"
      ]
     },
     "execution_count": 23,
     "metadata": {},
     "output_type": "execute_result"
    }
   ],
   "source": [
    "x"
   ]
  },
  {
   "cell_type": "code",
   "execution_count": null,
   "id": "652c867c-373f-4c4e-adab-960b493a80eb",
   "metadata": {},
   "outputs": [],
   "source": []
  }
 ],
 "metadata": {
  "kernelspec": {
   "display_name": "Python 3 (ipykernel)",
   "language": "python",
   "name": "python3"
  },
  "language_info": {
   "codemirror_mode": {
    "name": "ipython",
    "version": 3
   },
   "file_extension": ".py",
   "mimetype": "text/x-python",
   "name": "python",
   "nbconvert_exporter": "python",
   "pygments_lexer": "ipython3",
   "version": "3.8.10"
  }
 },
 "nbformat": 4,
 "nbformat_minor": 5
}
