{
 "cells": [
  {
   "cell_type": "code",
   "execution_count": 164,
   "id": "e1c40013-a9d2-4e5d-af9d-b85be96efc69",
   "metadata": {
    "tags": []
   },
   "outputs": [],
   "source": [
    "import numpy as np\n",
    "import matplotlib.pyplot as plt\n",
    "import sklearn.gaussian_process as skg\n",
    "from scipy.special import erf, erfc\n",
    "from sklearn.gaussian_process.kernels import RBF, ConstantKernel"
   ]
  },
  {
   "cell_type": "code",
   "execution_count": 165,
   "id": "eb16d09b-b07b-40c4-b9ba-c29d42bf9b0a",
   "metadata": {
    "tags": []
   },
   "outputs": [],
   "source": [
    "lam = 1e-2\n",
    "l = 1\n",
    "kernel = ConstantKernel(1.0, constant_value_bounds=\"fixed\") * RBF(l, length_scale_bounds=\"fixed\")\n",
    "gpa = skg.GaussianProcessRegressor(\n",
    "    alpha=lam,\n",
    "    kernel=kernel\n",
    ")"
   ]
  },
  {
   "cell_type": "code",
   "execution_count": 197,
   "id": "c5a3b1fe-8d55-43b5-8889-2791054db9c4",
   "metadata": {
    "tags": []
   },
   "outputs": [],
   "source": [
    "def f(X):\n",
    "    v = X[:,0]\n",
    "    w = X[:,1]\n",
    "    return np.log(1/v+1/w)-1"
   ]
  },
  {
   "cell_type": "code",
   "execution_count": 167,
   "id": "13ad72d1-e5cd-43bf-a77e-3a937f03ea45",
   "metadata": {
    "tags": []
   },
   "outputs": [],
   "source": [
    "vv = np.arange(0.01,3,0.01)\n",
    "ww = vv.copy()\n",
    "n = len(vv)"
   ]
  },
  {
   "cell_type": "code",
   "execution_count": 168,
   "id": "01914512-a7f7-45c3-b85a-ec947b52f160",
   "metadata": {
    "tags": []
   },
   "outputs": [],
   "source": [
    "V,W = np.meshgrid(vv,ww)\n",
    "Xg = np.hstack((\n",
    "    np.reshape(V,[-1,1]),\n",
    "    np.reshape(W,[-1,1])\n",
    "))\n",
    "yg = f(Xg)\n",
    "im = np.reshape(yg, (n,n))"
   ]
  },
  {
   "cell_type": "code",
   "execution_count": 169,
   "id": "2d3251c8-1baa-4e27-a8ca-75850af6d757",
   "metadata": {
    "tags": []
   },
   "outputs": [
    {
     "data": {
      "text/plain": [
       "<matplotlib.image.AxesImage at 0x7ff9d0efcc40>"
      ]
     },
     "execution_count": 169,
     "metadata": {},
     "output_type": "execute_result"
    },
    {
     "data": {
      "image/png": "[encoded data removed]",
      "text/plain": [
       "<Figure size 640x480 with 1 Axes>"
      ]
     },
     "metadata": {},
     "output_type": "display_data"
    }
   ],
   "source": [
    "plt.imshow(\n",
    "    im>0,\n",
    "    origin='lower'\n",
    ")"
   ]
  },
  {
   "cell_type": "code",
   "execution_count": 170,
   "id": "7476a5aa-dc45-4256-a91f-6a3fd8b89832",
   "metadata": {
    "tags": []
   },
   "outputs": [],
   "source": [
    "def gpa_next(gpa,x,y):\n",
    "\n",
    "    n = gpa.X_train_.shape[1]\n",
    "    g = skg.GaussianProcessRegressor(\n",
    "        alpha=1e-6,\n",
    "        kernel=kernel\n",
    "    )\n",
    "    g.fit(\n",
    "        np.vstack((gpa.X_train_, np.array(x).reshape(-1,n))),\n",
    "        np.vstack((gpa.y_train_, np.array(y).reshape(-1,1)))\n",
    "    )\n",
    "    # print(g.X_train_)\n",
    "    return g"
   ]
  },
  {
   "cell_type": "code",
   "execution_count": 171,
   "id": "20495501-4bb9-42e0-ad86-921de1ca8a04",
   "metadata": {
    "tags": []
   },
   "outputs": [
    {
     "data": {
      "text/plain": [
       "<matplotlib.collections.PathCollection at 0x7ff9d104dc40>"
      ]
     },
     "execution_count": 171,
     "metadata": {},
     "output_type": "execute_result"
    },
    {
     "data": {
      "image/png": "[encoded data removed]",
      "text/plain": [
       "<Figure size 640x480 with 1 Axes>"
      ]
     },
     "metadata": {},
     "output_type": "display_data"
    }
   ],
   "source": [
    "X = np.array([[1,1]])\n",
    "X = np.random.rand(20,2)*3\n",
    "y = f(X)\n",
    "\n",
    "gpa.fit(X,y)\n",
    "\n",
    "ygp = gpa.predict(Xg)\n",
    "imgp = np.reshape(ygp, (n,n))\n",
    "\n",
    "plt.imshow(\n",
    "    imgp>0,\n",
    "    origin='lower',\n",
    "    extent=[0,3,0,3]\n",
    ")\n",
    "plt.scatter(*X.T)"
   ]
  },
  {
   "cell_type": "code",
   "execution_count": 201,
   "id": "dcc72497-61ca-4d7c-a0d5-668ab1dac06d",
   "metadata": {
    "tags": []
   },
   "outputs": [
    {
     "name": "stdout",
     "output_type": "stream",
     "text": [
      "[-0.07071068 -0.07071068]\n",
      "[[1.         1.        ]\n",
      " [0.92928932 0.92928932]]\n"
     ]
    },
    {
     "ename": "ValueError",
     "evalue": "all the input array dimensions except for the concatenation axis must match exactly, but along dimension 1, the array at index 0 has size 2 and the array at index 1 has size 1",
     "output_type": "error",
     "traceback": [
      "\u001b[0;31m---------------------------------------------------------------------------\u001b[0m",
      "\u001b[0;31mValueError\u001b[0m                                Traceback (most recent call last)",
      "Cell \u001b[0;32mIn[201], line 25\u001b[0m\n\u001b[1;32m     23\u001b[0m pe_arr \u001b[38;5;241m=\u001b[39m []\n\u001b[1;32m     24\u001b[0m \u001b[38;5;28;01mfor\u001b[39;00m d \u001b[38;5;129;01min\u001b[39;00m delta:\n\u001b[0;32m---> 25\u001b[0m     gp_step \u001b[38;5;241m=\u001b[39m \u001b[43mgpa_next\u001b[49m\u001b[43m(\u001b[49m\u001b[43mgpa\u001b[49m\u001b[43m,\u001b[49m\u001b[43m \u001b[49m\u001b[43mX\u001b[49m\u001b[43m[\u001b[49m\u001b[38;5;241;43m-\u001b[39;49m\u001b[38;5;241;43m1\u001b[39;49m\u001b[43m,\u001b[49m\u001b[43m:\u001b[49m\u001b[43m]\u001b[49m\u001b[38;5;241;43m+\u001b[39;49m\u001b[43md\u001b[49m\u001b[43m,\u001b[49m\u001b[43m \u001b[49m\u001b[43mgpa\u001b[49m\u001b[38;5;241;43m.\u001b[39;49m\u001b[43mpredict\u001b[49m\u001b[43m(\u001b[49m\u001b[43mnp\u001b[49m\u001b[38;5;241;43m.\u001b[39;49m\u001b[43mreshape\u001b[49m\u001b[43m(\u001b[49m\u001b[43mX\u001b[49m\u001b[43m[\u001b[49m\u001b[38;5;241;43m-\u001b[39;49m\u001b[38;5;241;43m1\u001b[39;49m\u001b[43m]\u001b[49m\u001b[38;5;241;43m+\u001b[39;49m\u001b[43md\u001b[49m\u001b[43m,\u001b[49m\u001b[43m[\u001b[49m\u001b[38;5;241;43m1\u001b[39;49m\u001b[43m,\u001b[49m\u001b[38;5;241;43m-\u001b[39;49m\u001b[38;5;241;43m1\u001b[39;49m\u001b[43m]\u001b[49m\u001b[43m)\u001b[49m\u001b[43m)\u001b[49m\u001b[43m)\u001b[49m\n\u001b[1;32m     26\u001b[0m     mu,sig \u001b[38;5;241m=\u001b[39m gp_step\u001b[38;5;241m.\u001b[39mpredict(Xg, return_std\u001b[38;5;241m=\u001b[39m\u001b[38;5;28;01mTrue\u001b[39;00m)\n\u001b[1;32m     27\u001b[0m     Pe \u001b[38;5;241m=\u001b[39m erfc(np\u001b[38;5;241m.\u001b[39mabs(mu)\u001b[38;5;241m/\u001b[39m(np\u001b[38;5;241m.\u001b[39msqrt(\u001b[38;5;241m2\u001b[39m)\u001b[38;5;241m*\u001b[39msig))\n",
      "Cell \u001b[0;32mIn[170], line 10\u001b[0m, in \u001b[0;36mgpa_next\u001b[0;34m(gpa, x, y)\u001b[0m\n\u001b[1;32m      3\u001b[0m n \u001b[38;5;241m=\u001b[39m gpa\u001b[38;5;241m.\u001b[39mX_train_\u001b[38;5;241m.\u001b[39mshape[\u001b[38;5;241m1\u001b[39m]\n\u001b[1;32m      4\u001b[0m g \u001b[38;5;241m=\u001b[39m skg\u001b[38;5;241m.\u001b[39mGaussianProcessRegressor(\n\u001b[1;32m      5\u001b[0m     alpha\u001b[38;5;241m=\u001b[39m\u001b[38;5;241m1e-6\u001b[39m,\n\u001b[1;32m      6\u001b[0m     kernel\u001b[38;5;241m=\u001b[39mkernel\n\u001b[1;32m      7\u001b[0m )\n\u001b[1;32m      8\u001b[0m g\u001b[38;5;241m.\u001b[39mfit(\n\u001b[1;32m      9\u001b[0m     np\u001b[38;5;241m.\u001b[39mvstack((gpa\u001b[38;5;241m.\u001b[39mX_train_, np\u001b[38;5;241m.\u001b[39marray(x)\u001b[38;5;241m.\u001b[39mreshape(\u001b[38;5;241m-\u001b[39m\u001b[38;5;241m1\u001b[39m,n))),\n\u001b[0;32m---> 10\u001b[0m     \u001b[43mnp\u001b[49m\u001b[38;5;241;43m.\u001b[39;49m\u001b[43mvstack\u001b[49m\u001b[43m(\u001b[49m\u001b[43m(\u001b[49m\u001b[43mgpa\u001b[49m\u001b[38;5;241;43m.\u001b[39;49m\u001b[43my_train_\u001b[49m\u001b[43m,\u001b[49m\u001b[43m \u001b[49m\u001b[43mnp\u001b[49m\u001b[38;5;241;43m.\u001b[39;49m\u001b[43marray\u001b[49m\u001b[43m(\u001b[49m\u001b[43my\u001b[49m\u001b[43m)\u001b[49m\u001b[38;5;241;43m.\u001b[39;49m\u001b[43mreshape\u001b[49m\u001b[43m(\u001b[49m\u001b[38;5;241;43m-\u001b[39;49m\u001b[38;5;241;43m1\u001b[39;49m\u001b[43m,\u001b[49m\u001b[38;5;241;43m1\u001b[39;49m\u001b[43m)\u001b[49m\u001b[43m)\u001b[49m\u001b[43m)\u001b[49m\n\u001b[1;32m     11\u001b[0m )\n\u001b[1;32m     12\u001b[0m \u001b[38;5;66;03m# print(g.X_train_)\u001b[39;00m\n\u001b[1;32m     13\u001b[0m \u001b[38;5;28;01mreturn\u001b[39;00m g\n",
      "File \u001b[0;32m<__array_function__ internals>:200\u001b[0m, in \u001b[0;36mvstack\u001b[0;34m(*args, **kwargs)\u001b[0m\n",
      "File \u001b[0;32m~/.local/lib/python3.8/site-packages/numpy/core/shape_base.py:296\u001b[0m, in \u001b[0;36mvstack\u001b[0;34m(tup, dtype, casting)\u001b[0m\n\u001b[1;32m    294\u001b[0m \u001b[38;5;28;01mif\u001b[39;00m \u001b[38;5;129;01mnot\u001b[39;00m \u001b[38;5;28misinstance\u001b[39m(arrs, \u001b[38;5;28mlist\u001b[39m):\n\u001b[1;32m    295\u001b[0m     arrs \u001b[38;5;241m=\u001b[39m [arrs]\n\u001b[0;32m--> 296\u001b[0m \u001b[38;5;28;01mreturn\u001b[39;00m \u001b[43m_nx\u001b[49m\u001b[38;5;241;43m.\u001b[39;49m\u001b[43mconcatenate\u001b[49m\u001b[43m(\u001b[49m\u001b[43marrs\u001b[49m\u001b[43m,\u001b[49m\u001b[43m \u001b[49m\u001b[38;5;241;43m0\u001b[39;49m\u001b[43m,\u001b[49m\u001b[43m \u001b[49m\u001b[43mdtype\u001b[49m\u001b[38;5;241;43m=\u001b[39;49m\u001b[43mdtype\u001b[49m\u001b[43m,\u001b[49m\u001b[43m \u001b[49m\u001b[43mcasting\u001b[49m\u001b[38;5;241;43m=\u001b[39;49m\u001b[43mcasting\u001b[49m\u001b[43m)\u001b[49m\n",
      "File \u001b[0;32m<__array_function__ internals>:200\u001b[0m, in \u001b[0;36mconcatenate\u001b[0;34m(*args, **kwargs)\u001b[0m\n",
      "\u001b[0;31mValueError\u001b[0m: all the input array dimensions except for the concatenation axis must match exactly, but along dimension 1, the array at index 0 has size 2 and the array at index 1 has size 1"
     ]
    }
   ],
   "source": [
    "X = np.array([[1,1]])\n",
    "y = f(X)\n",
    "\n",
    "gpa.fit(X,y)\n",
    "\n",
    "# delta = np.hstack((\n",
    "#     np.reshape(np.array([0.1]*8),[-1,1]),\n",
    "#     np.reshape(np.arange(0,2*np.pi,np.pi/4),[-1,1])\n",
    "# ))\n",
    "r = np.reshape(np.array([0.1]*8),[-1,1])\n",
    "th = np.reshape(np.arange(0,2*np.pi,np.pi/4),[-1,1])\n",
    "\n",
    "dx = r*np.cos(th)\n",
    "dy = r*np.sin(th)\n",
    "\n",
    "delta = np.hstack((\n",
    "    dx,\n",
    "    dy\n",
    "))\n",
    "\n",
    "for i in range(20):\n",
    "\n",
    "    pe_arr = []\n",
    "    for d in delta:\n",
    "        gp_step = gpa_next(gpa, X[-1,:]+d, gpa.predict(np.reshape(X[-1]+d,[1,-1])))\n",
    "        mu,sig = gp_step.predict(Xg, return_std=True)\n",
    "        Pe = erfc(np.abs(mu)/(np.sqrt(2)*sig))\n",
    "        pe_arr.append(np.sum(Pe))\n",
    "    pe_arr = np.array(pe_arr)\n",
    "    dmin = delta[np.argmin(pe_arr),:]\n",
    "    print(dmin)\n",
    "\n",
    "    X = np.vstack((\n",
    "        X,\n",
    "        X[-1]+np.reshape(dmin,[1,-1])\n",
    "    ))\n",
    "    \n",
    "    y = f(X)\n",
    "    gpa.fit(X,y)\n",
    "    \n",
    "    print(X)\n",
    "    # print(y)\n",
    "    \n",
    "\n",
    "ygp = gpa.predict(Xg)\n",
    "imgp = np.reshape(ygp, (n,n))\n",
    "\n",
    "plt.imshow(\n",
    "    imgp>0,\n",
    "    origin='lower',\n",
    "    extent=[0,3,0,3]\n",
    ")\n",
    "plt.scatter(*X.T)"
   ]
  },
  {
   "cell_type": "code",
   "execution_count": null,
   "id": "dc42cd66-aa54-4aca-8a44-7a280b45a221",
   "metadata": {},
   "outputs": [],
   "source": []
  }
 ],
 "metadata": {
  "kernelspec": {
   "display_name": "Python 3 (ipykernel)",
   "language": "python",
   "name": "python3"
  },
  "language_info": {
   "codemirror_mode": {
    "name": "ipython",
    "version": 3
   },
   "file_extension": ".py",
   "mimetype": "text/x-python",
   "name": "python",
   "nbconvert_exporter": "python",
   "pygments_lexer": "ipython3",
   "version": "3.8.10"
  }
 },
 "nbformat": 4,
 "nbformat_minor": 5
}
