{
 "cells": [
  {
   "cell_type": "code",
   "execution_count": 1,
   "id": "8900d027-358f-4eef-924a-9fd2dd25607d",
   "metadata": {},
   "outputs": [],
   "source": [
    "import numpy as np\n",
    "import matplotlib.pyplot as plt\n",
    "import sklearn.gaussian_process as skg\n",
    "from scipy.special import erfc\n",
    "from sklearn.gaussian_process.kernels import RBF, ConstantKernel"
   ]
  },
  {
   "cell_type": "code",
   "execution_count": 2,
   "id": "7ac11a54-21f4-4150-bcde-c03cb17e81f2",
   "metadata": {},
   "outputs": [],
   "source": [
    "f = lambda x: 1-2*x**2"
   ]
  },
  {
   "cell_type": "code",
   "execution_count": 3,
   "id": "e1e6eda0-adaa-490b-9deb-28937e373810",
   "metadata": {},
   "outputs": [
    {
     "data": {
      "text/plain": [
       "{'k1': 1**2,\n",
       " 'k2': RBF(length_scale=0.5),\n",
       " 'k1__constant_value': 1.0,\n",
       " 'k1__constant_value_bounds': 'fixed',\n",
       " 'k2__length_scale': 0.5,\n",
       " 'k2__length_scale_bounds': 'fixed'}"
      ]
     },
     "execution_count": 3,
     "metadata": {},
     "output_type": "execute_result"
    }
   ],
   "source": [
    "lam = 1e-2\n",
    "l = 0.5\n",
    "kernel = ConstantKernel(1.0, constant_value_bounds=\"fixed\") * RBF(l, length_scale_bounds=\"fixed\")\n",
    "gpa = skg.GaussianProcessRegressor(\n",
    "    alpha=lam,\n",
    "    kernel=kernel\n",
    ")\n",
    "X = np.random.uniform(-1,1,3).reshape(-1,1).reshape(-1,1)\n",
    "y = f(X)\n",
    "gpa.fit(X,y)\n",
    "gpa.kernel_.get_params()"
   ]
  },
  {
   "cell_type": "code",
   "execution_count": 4,
   "id": "f047f8f0-d3d6-4cc4-98ce-7fb697e9bcfa",
   "metadata": {},
   "outputs": [],
   "source": [
    "xx = np.arange(-1,1,0.001)\n",
    "mu_last, sigma_last = gpa.predict(xx.reshape(-1,1), return_std=True)\n",
    "mu_last = mu_last.flatten()"
   ]
  },
  {
   "cell_type": "markdown",
   "id": "a85b2436-26de-4466-b229-b40b92db8e2b",
   "metadata": {},
   "source": [
    "Calculate raw $P_{err}$"
   ]
  },
  {
   "cell_type": "code",
   "execution_count": 5,
   "id": "c8404377-f39f-49e6-82d2-0d6445a0670e",
   "metadata": {},
   "outputs": [],
   "source": [
    "p_err = 1/2*erfc(np.abs(mu_last)/sigma_last)"
   ]
  },
  {
   "cell_type": "markdown",
   "id": "a7158a5f-8ba5-4cd4-abcc-35c999fb5ea8",
   "metadata": {},
   "source": [
    "Calculate $\\int_{-\\infty}^\\infty P_t^{err}(\\phi,\\phi_t)d\\phi$"
   ]
  },
  {
   "cell_type": "code",
   "execution_count": 6,
   "id": "cb99fc2a-d9cd-465d-b48b-647336bc8ecf",
   "metadata": {},
   "outputs": [],
   "source": [
    "def gpa_next(gpa,x,y):\n",
    "\n",
    "    g = skg.GaussianProcessRegressor(\n",
    "        alpha=1e-2,\n",
    "        kernel=kernel\n",
    "    )\n",
    "    g.fit(\n",
    "        np.vstack((gpa.X_train_, np.array(x).reshape(-1,1))),\n",
    "        np.vstack((gpa.y_train_, np.array(y).reshape(-1,1)))\n",
    "    )\n",
    "    # print(g.X_train_)\n",
    "    return g\n",
    "\n",
    "x_next_list = np.arange(-1,1,0.01)\n",
    "util_exact = []\n",
    "\n",
    "for x_next in x_next_list:\n",
    "\n",
    "    y_next = gpa.predict(x_next.reshape(-1,1))\n",
    "    g = gpa_next(\n",
    "        gpa,\n",
    "        x_next,\n",
    "        y_next\n",
    "        )\n",
    "    m, s = g.predict(xx.reshape(-1,1), return_std=True)\n",
    "    p_err_next = 1/2*erfc(np.abs(m)/s)\n",
    "    util_exact.append(np.sum(p_err-p_err_next))\n",
    "\n",
    "util_exact = np.array(util_exact)"
   ]
  },
  {
   "cell_type": "markdown",
   "id": "3c9299a8-db1d-45e8-a1a2-38a9ec1f3fa1",
   "metadata": {},
   "source": [
    "Approximate $\\int_{-\\infty}^\\infty \\int_{-\\infty}^\\infty f(x_t) P_t^{err}(\\phi,\\phi_t)d\\phi dx_t$ by assuming $P_t^{err}$ is locally linear"
   ]
  },
  {
   "cell_type": "code",
   "execution_count": 7,
   "id": "16ff9294-9dac-48bf-8b22-ffd8316f4c93",
   "metadata": {},
   "outputs": [
    {
     "name": "stdout",
     "output_type": "stream",
     "text": [
      "[[1.00918759]]\n",
      "[0.10359804]\n"
     ]
    }
   ],
   "source": [
    "d = lambda a,b: np.linalg.norm(a-b)\n",
    "k0 = lambda a,b: np.exp(-d(a,b)**2/2)\n",
    "\n",
    "def kt1(gpa, x):\n",
    "    xx = gpa.X_train_\n",
    "    kt = [k0(x,x1) for x1 in xx]\n",
    "    return np.array(kt).reshape(-1,1)\n",
    "\n",
    "def Kt(gpa):\n",
    "    xx = gpa.X_train_\n",
    "    K = np.empty((3,3))\n",
    "    for i in range(K.shape[0]):\n",
    "        for j in range(K.shape[1]):\n",
    "            K[i,j] = k0(xx[i],xx[j])\n",
    "    return K\n",
    "\n",
    "def kt2(gpa, x1, x2):\n",
    "    inv = np.linalg.pinv(Kt(gpa))\n",
    "    m1 = np.dot(kt1(gpa,x1).transpose(), inv)\n",
    "    return k0(x1,x2) - np.dot(np.dot(kt1(gpa,x1).transpose(), inv), kt1(gpa,x2))\n",
    "\n",
    "def get_mu(gpa,x):\n",
    "    return gpa.predict(np.array(x).reshape(-1,1))\n",
    "\n",
    "def get_sigma(gpa,x):\n",
    "    _,sigma = gpa.predict(np.array(x).reshape(-1,1), return_std=True)\n",
    "    return sigma\n",
    "\n",
    "print(get_mu(gpa,0))\n",
    "print(get_sigma(gpa,0))"
   ]
  },
  {
   "cell_type": "code",
   "execution_count": 14,
   "id": "6f72cc35-900e-4fbe-8b26-d71e4d31435b",
   "metadata": {},
   "outputs": [],
   "source": [
    "def mu_next(gpa, x, xt, yt):\n",
    "    \n",
    "    mu = get_mu(gpa,x)\n",
    "    k = kt2(gpa,x,xt)\n",
    "    var = get_sigma(gpa,x)**2\n",
    "    \n",
    "    return mu + k/(var+lam)*(yt-mu)\n",
    "\n",
    "def sigma_next(gpa, x, xt):\n",
    "    \n",
    "    k = kt2(gpa,x,xt)\n",
    "    var = get_sigma(gpa,x)**2\n",
    "    \n",
    "    return np.sqrt(lam*k/(lam+var))\n",
    "\n",
    "def fdiff_1d(f,x0,h):\n",
    "    \n",
    "    x0 = np.array(x0)\n",
    "    num = f(x0+h) - f(x0-h)\n",
    "    return num/(2*h)\n",
    "\n",
    "\n",
    "def fdiff_2d(f,x0,h):\n",
    "    \n",
    "    x0 = np.array(x0)\n",
    "    num = f(x0+np.array([h,h])) - f(x0+np.array([h,-h])) - f(x0+np.array([-h,h])) + f(x0+np.array([-h,-h]))\n",
    "    return num/(4*h**2)\n",
    "\n",
    "def fdiff_3d(f,x0,h):\n",
    "    \n",
    "    x0 = np.array(x0)\n",
    "    signs = np.array(np.meshgrid([-1,1], [-1,1], [-1,1])).T.reshape(-1,3)\n",
    "    runsum = 0\n",
    "    for s in signs:\n",
    "        coeff = np.product(signs)\n",
    "        runsum += coeff * f(x0+h*s)\n",
    "    runsum = runsum / 8*h**3\n",
    "    \n",
    "    return runsum"
   ]
  },
  {
   "cell_type": "code",
   "execution_count": 15,
   "id": "d3c71822-6209-4a28-ba84-721939cc4121",
   "metadata": {},
   "outputs": [],
   "source": [
    "def perr_next(gpa,x,xt,yt):\n",
    "    \n",
    "    g = gpa_next(gpa,xt,yt)\n",
    "    return g.predict(np.array(x).reshape(-1,1))\n",
    "\n",
    "\n",
    "x_next_list = np.arange(-1,1,0.01)\n",
    "util_approx = []\n",
    "\n",
    "for x_next in x_next_list:\n",
    "    \n",
    "    x0 = x_next\n",
    "    y0 = gpa.predict(np.array(x0).reshape(-1,1)).flatten()[0]\n",
    "    \n",
    "    fxyz = lambda b: perr_next(gpa,b[0],b[1],b[2])\n",
    "    d_xyz = fdiff_3d(fxyz,[x0,x0,y0],0.01)\n",
    "    alpha_xyz = d_xyz\n",
    "    \n",
    "    fxz = lambda b: perr_next(gpa,b[0],b[1],y0)\n",
    "    d_xz = fdiff_2d(fxz,[x0,x0],0.01).flatten()[0]\n",
    "    alpha_xz = d_xz - alpha_xyz*y0\n",
    "    \n",
    "    fyz = lambda b: perr_next(gpa,b[0],x0,b[1])\n",
    "    d_yz = fdiff_2d(fyz,[x0,y0],0.01).flatten()[0]\n",
    "    alpha_yz = d_yz - alpha_xyz*x0  \n",
    "    \n",
    "    fz = lambda b: perr_next(gpa,b,x0,y0)\n",
    "    d_z = fdiff_1d(fz,x0,0.01).flatten()[0]\n",
    "    alpha_z = d_z - alpha_yz*y0 - alpha_xz*x0 - alpha_xyz*x0*y0\n",
    "    \n",
    "    \n",
    "    util = alpha_z + (alpha_yz+alpha_xyz*x0)*y0 + alpha_xz*x0\n",
    "    util = util.flatten()[0]\n",
    "    \n",
    "    util_approx.append(util)\n",
    "    \n",
    "util_approx = np.array(util_approx)"
   ]
  },
  {
   "cell_type": "code",
   "execution_count": 10,
   "id": "607d22d8-785c-4b6c-b6ed-45c333b62568",
   "metadata": {
    "tags": []
   },
   "outputs": [],
   "source": [
    "# x_next_list = np.arange(-1,1,0.01)\n",
    "# util_approx = []\n",
    "\n",
    "# def perr_next(gpa,x,xt,yt):\n",
    "    \n",
    "#     mu = mu_next(gpa,x,xt,yt)\n",
    "#     sigma = sigma_next(gpa,x,xt)\n",
    "    \n",
    "#     return erfc(np.abs(mu)/sigma)/2\n",
    "\n",
    "# for x_next in x_next_list:\n",
    "\n",
    "#     y0 = gpa.predict(x_next.reshape(-1,1))\n",
    "#     p1 = lambda b:  perr_next(gpa,b[0],b[1],y0)\n",
    "#     ax = fdiff_2d(p1,[x_next,x_next],0.1)\n",
    "#     # print(ax)\n",
    "    \n",
    "    \n",
    "#     # m, s = g.predict(xx.reshape(-1,1), return_std=True)\n",
    "#     # p_err_next = 1/2*erfc(np.abs(m)/s)\n",
    "#     # util_exact.append(np.sum(p_err-p_err_next))\n",
    "\n",
    "# util_exact = np.array(util_exact)"
   ]
  },
  {
   "cell_type": "code",
   "execution_count": 11,
   "id": "1bd66ded-c39a-41ac-ba67-60e93c8a7c82",
   "metadata": {},
   "outputs": [
    {
     "name": "stdout",
     "output_type": "stream",
     "text": [
      "(200,)\n"
     ]
    }
   ],
   "source": [
    "print(util_exact.shape)"
   ]
  },
  {
   "cell_type": "code",
   "execution_count": 16,
   "id": "ae47020e-0740-48ee-b7f8-e4d13d3e0d8f",
   "metadata": {},
   "outputs": [
    {
     "data": {
      "image/png": "[encoded data removed]",
      "text/plain": [
       "<Figure size 432x288 with 3 Axes>"
      ]
     },
     "metadata": {
      "needs_background": "light"
     },
     "output_type": "display_data"
    }
   ],
   "source": [
    "plt.subplot(2,1,1)\n",
    "plt.plot(xx, mu_last, 'r')\n",
    "plt.plot(xx,mu_last-3*sigma_last,'r--')\n",
    "plt.plot(xx,mu_last+3*sigma_last,'r--')\n",
    "plt.scatter(X,y,c='k')\n",
    "plt.hlines(0,-1,1,'k','--')\n",
    "\n",
    "plt.gca().set_xticks([], [])\n",
    "plt.ylabel(\"$v(\\phi)$\")\n",
    "plt.legend([\"$\\mu(\\phi)$\", \"$\\mu(\\phi) \\pm 3\\sigma(\\phi)$\"])\n",
    "\n",
    "#***\n",
    "\n",
    "plt.subplot(2,1,2)\n",
    "ax = plt.gca()\n",
    "ax2 = ax.twinx()\n",
    "\n",
    "ax.plot(x_next_list, util_approx, 'g')\n",
    "ax2.plot(x_next_list,util_exact, 'b')\n",
    "\n",
    "ax.set_xlabel('$\\phi$')\n",
    "ax.set_ylabel('Approx. Utility')\n",
    "ax.tick_params(axis='y', colors='g')\n",
    "ax.yaxis.label.set_color('g')\n",
    "\n",
    "ax2.set_ylabel('Exact Utility')\n",
    "ax2.tick_params(axis='y', colors='b')\n",
    "ax2.yaxis.label.set_color('b')\n",
    "\n",
    "plt.show()"
   ]
  },
  {
   "cell_type": "code",
   "execution_count": 13,
   "id": "cad9690f-3ffd-4c9b-87f8-906f7f34b4c9",
   "metadata": {},
   "outputs": [
    {
     "data": {
      "text/plain": [
       "{'k1': 1**2,\n",
       " 'k2': RBF(length_scale=0.5),\n",
       " 'k1__constant_value': 1.0,\n",
       " 'k1__constant_value_bounds': 'fixed',\n",
       " 'k2__length_scale': 0.5,\n",
       " 'k2__length_scale_bounds': 'fixed'}"
      ]
     },
     "execution_count": 13,
     "metadata": {},
     "output_type": "execute_result"
    }
   ],
   "source": [
    "gpa.kernel_.get_params()"
   ]
  },
  {
   "cell_type": "code",
   "execution_count": null,
   "id": "c570fe9b-979d-4145-8c49-8c29c49508f4",
   "metadata": {},
   "outputs": [],
   "source": []
  }
 ],
 "metadata": {
  "kernelspec": {
   "display_name": "Python 3 (ipykernel)",
   "language": "python",
   "name": "python3"
  },
  "language_info": {
   "codemirror_mode": {
    "name": "ipython",
    "version": 3
   },
   "file_extension": ".py",
   "mimetype": "text/x-python",
   "name": "python",
   "nbconvert_exporter": "python",
   "pygments_lexer": "ipython3",
   "version": "3.9.12"
  }
 },
 "nbformat": 4,
 "nbformat_minor": 5
}
